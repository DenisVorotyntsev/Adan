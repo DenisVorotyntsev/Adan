{
 "cells": [
  {
   "cell_type": "markdown",
   "metadata": {},
   "source": [
    "This example is taken from [TensorFlow Recommenders: Quickstart](https://www.tensorflow.org/recommenders/examples/quickstart) as is with one change: Adam optimizer is replaced with Adan optimizer. "
   ]
  },
  {
   "cell_type": "markdown",
   "metadata": {
    "id": "_dEaVsqSgNyQ"
   },
   "source": [
    "##### Copyright 2020 The TensorFlow Authors."
   ]
  },
  {
   "cell_type": "code",
   "execution_count": 1,
   "metadata": {
    "cellView": "form",
    "execution": {
     "iopub.execute_input": "2022-07-16T12:11:35.026454Z",
     "iopub.status.busy": "2022-07-16T12:11:35.026223Z",
     "iopub.status.idle": "2022-07-16T12:11:35.029981Z",
     "shell.execute_reply": "2022-07-16T12:11:35.029442Z"
    },
    "id": "4FyfuZX-gTKS"
   },
   "outputs": [],
   "source": [
    "#@title Licensed under the Apache License, Version 2.0 (the \"License\");\n",
    "# you may not use this file except in compliance with the License.\n",
    "# You may obtain a copy of the License at\n",
    "#\n",
    "# https://www.apache.org/licenses/LICENSE-2.0\n",
    "#\n",
    "# Unless required by applicable law or agreed to in writing, software\n",
    "# distributed under the License is distributed on an \"AS IS\" BASIS,\n",
    "# WITHOUT WARRANTIES OR CONDITIONS OF ANY KIND, either express or implied.\n",
    "# See the License for the specific language governing permissions and\n",
    "# limitations under the License."
   ]
  },
  {
   "cell_type": "markdown",
   "metadata": {
    "id": "sT8AyHRMNh41"
   },
   "source": [
    "# TensorFlow Recommenders: Quickstart\n",
    "\n",
    "<table class=\"tfo-notebook-buttons\" align=\"left\">\n",
    "  <td>\n",
    "    <a target=\"_blank\" href=\"https://www.tensorflow.org/recommenders/quickstart\"><img src=\"https://www.tensorflow.org/images/tf_logo_32px.png\" />View on TensorFlow.org</a>\n",
    "  </td>\n",
    "  <td>\n",
    "    <a target=\"_blank\" href=\"https://colab.research.google.com/github/tensorflow/recommenders/blob/main/docs/examples/quickstart.ipynb\"><img src=\"https://www.tensorflow.org/images/colab_logo_32px.png\" />Run in Google Colab</a>\n",
    "  </td>\n",
    "  <td>\n",
    "    <a target=\"_blank\" href=\"https://github.com/tensorflow/recommenders/blob/main/docs/examples/quickstart.ipynb\"><img src=\"https://www.tensorflow.org/images/GitHub-Mark-32px.png\" />View source on GitHub</a>\n",
    "  </td>\n",
    "  <td>\n",
    "    <a href=\"https://storage.googleapis.com/tensorflow_docs/recommenders/docs/examples/quickstart.ipynb\"><img src=\"https://www.tensorflow.org/images/download_logo_32px.png\" />Download notebook</a>\n",
    "  </td>\n",
    "</table>"
   ]
  },
  {
   "cell_type": "markdown",
   "metadata": {
    "id": "8f-reQ11gbLB"
   },
   "source": [
    "In this tutorial, we build a simple matrix factorization model using the [MovieLens 100K dataset](https://grouplens.org/datasets/movielens/100k/) with TFRS. We can use this model to recommend movies for a given user."
   ]
  },
  {
   "cell_type": "markdown",
   "metadata": {
    "id": "qA00wBE2Ntdm"
   },
   "source": [
    "### Import TFRS\n",
    "\n",
    "First, install and import TFRS:"
   ]
  },
  {
   "cell_type": "code",
   "execution_count": 2,
   "metadata": {
    "execution": {
     "iopub.execute_input": "2022-07-16T12:11:35.033396Z",
     "iopub.status.busy": "2022-07-16T12:11:35.032969Z",
     "iopub.status.idle": "2022-07-16T12:11:38.035531Z",
     "shell.execute_reply": "2022-07-16T12:11:38.034651Z"
    },
    "id": "6yzAaM85Z12D"
   },
   "outputs": [
    {
     "name": "stdout",
     "output_type": "stream",
     "text": [
      "\u001b[33mWARNING: Running pip as the 'root' user can result in broken permissions and conflicting behaviour with the system package manager. It is recommended to use a virtual environment instead: https://pip.pypa.io/warnings/venv\u001b[0m\u001b[33m\n",
      "\u001b[0m\u001b[33mWARNING: Running pip as the 'root' user can result in broken permissions and conflicting behaviour with the system package manager. It is recommended to use a virtual environment instead: https://pip.pypa.io/warnings/venv\u001b[0m\u001b[33m\n",
      "\u001b[0m"
     ]
    }
   ],
   "source": [
    "!pip install -q tensorflow-recommenders\n",
    "!pip install -q --upgrade tensorflow-datasets"
   ]
  },
  {
   "cell_type": "code",
   "execution_count": 3,
   "metadata": {
    "execution": {
     "iopub.execute_input": "2022-07-16T12:11:38.040193Z",
     "iopub.status.busy": "2022-07-16T12:11:38.039547Z",
     "iopub.status.idle": "2022-07-16T12:11:40.227703Z",
     "shell.execute_reply": "2022-07-16T12:11:40.227044Z"
    },
    "id": "n3oYt3R6Nr9l"
   },
   "outputs": [
    {
     "name": "stderr",
     "output_type": "stream",
     "text": [
      "2022-10-01 18:17:28.630616: I tensorflow/core/platform/cpu_feature_guard.cc:193] This TensorFlow binary is optimized with oneAPI Deep Neural Network Library (oneDNN) to use the following CPU instructions in performance-critical operations:  AVX2 FMA\n",
      "To enable them in other operations, rebuild TensorFlow with the appropriate compiler flags.\n",
      "2022-10-01 18:17:28.790996: W tensorflow/stream_executor/platform/default/dso_loader.cc:64] Could not load dynamic library 'libcudart.so.11.0'; dlerror: libcudart.so.11.0: cannot open shared object file: No such file or directory\n",
      "2022-10-01 18:17:28.791029: I tensorflow/stream_executor/cuda/cudart_stub.cc:29] Ignore above cudart dlerror if you do not have a GPU set up on your machine.\n",
      "2022-10-01 18:17:28.824790: E tensorflow/stream_executor/cuda/cuda_blas.cc:2981] Unable to register cuBLAS factory: Attempting to register factory for plugin cuBLAS when one has already been registered\n",
      "2022-10-01 18:17:29.668342: W tensorflow/stream_executor/platform/default/dso_loader.cc:64] Could not load dynamic library 'libnvinfer.so.7'; dlerror: libnvinfer.so.7: cannot open shared object file: No such file or directory\n",
      "2022-10-01 18:17:29.668499: W tensorflow/stream_executor/platform/default/dso_loader.cc:64] Could not load dynamic library 'libnvinfer_plugin.so.7'; dlerror: libnvinfer_plugin.so.7: cannot open shared object file: No such file or directory\n",
      "2022-10-01 18:17:29.668514: W tensorflow/compiler/tf2tensorrt/utils/py_utils.cc:38] TF-TRT Warning: Cannot dlopen some TensorRT libraries. If you would like to use Nvidia GPU with TensorRT, please make sure the missing libraries mentioned above are installed properly.\n",
      "/usr/local/lib/python3.8/dist-packages/tqdm/auto.py:22: TqdmWarning: IProgress not found. Please update jupyter and ipywidgets. See https://ipywidgets.readthedocs.io/en/stable/user_install.html\n",
      "  from .autonotebook import tqdm as notebook_tqdm\n"
     ]
    }
   ],
   "source": [
    "from typing import Dict, Text\n",
    "\n",
    "import numpy as np\n",
    "import tensorflow as tf\n",
    "\n",
    "import tensorflow_datasets as tfds\n",
    "import tensorflow_recommenders as tfrs"
   ]
  },
  {
   "cell_type": "code",
   "execution_count": 4,
   "metadata": {},
   "outputs": [],
   "source": [
    "from tf_adan.adan import Adan"
   ]
  },
  {
   "cell_type": "markdown",
   "metadata": {
    "id": "zCxQ1CZcO2wh"
   },
   "source": [
    "### Read the data"
   ]
  },
  {
   "cell_type": "code",
   "execution_count": 5,
   "metadata": {
    "execution": {
     "iopub.execute_input": "2022-07-16T12:11:40.231954Z",
     "iopub.status.busy": "2022-07-16T12:11:40.231322Z",
     "iopub.status.idle": "2022-07-16T12:11:44.483159Z",
     "shell.execute_reply": "2022-07-16T12:11:44.482428Z"
    },
    "id": "M-mxBYjdO5m7"
   },
   "outputs": [
    {
     "name": "stderr",
     "output_type": "stream",
     "text": [
      "2022-10-01 18:17:31.922397: W tensorflow/core/platform/cloud/google_auth_provider.cc:184] All attempts to get a Google authentication bearer token failed, returning an empty token. Retrieving token from files failed with \"NOT_FOUND: Could not locate the credentials file.\". Retrieving token from GCE failed with \"FAILED_PRECONDITION: Error executing an HTTP request: libcurl code 6 meaning 'Couldn't resolve host name', error details: Could not resolve host: metadata\".\n"
     ]
    },
    {
     "name": "stdout",
     "output_type": "stream",
     "text": [
      "\u001b[1mDownloading and preparing dataset 4.70 MiB (download: 4.70 MiB, generated: 32.41 MiB, total: 37.10 MiB) to ~/tensorflow_datasets/movielens/100k-ratings/0.1.1...\u001b[0m\n"
     ]
    },
    {
     "name": "stderr",
     "output_type": "stream",
     "text": [
      "Dl Completed...: 0 url [00:00, ? url/s]\n",
      "Dl Size...: 0 MiB [00:00, ? MiB/s]\u001b[A\n",
      "\n",
      "Dl Completed...:   0%|          | 0/1 [00:00<?, ? url/s]\n",
      "Dl Size...: 0 MiB [00:00, ? MiB/s]\u001b[A\n",
      "\n",
      "Dl Completed...:   0%|          | 0/1 [00:00<?, ? url/s]\n",
      "Dl Size...:   0%|          | 0/4 [00:00<?, ? MiB/s]\u001b[A\n",
      "\n",
      "Extraction completed...: 0 file [00:00, ? file/s]\u001b[A\u001b[A\n",
      "Dl Completed...:   0%|          | 0/1 [00:01<?, ? url/s]iB]\u001b[A\n",
      "Dl Size...:  25%|██▌       | 1/4 [00:01<00:05,  1.78s/ MiB]\u001b[A\n",
      "\n",
      "Extraction completed...: 0 file [00:01, ? file/s]\u001b[A\u001b[A\n",
      "Dl Completed...:   0%|          | 0/1 [00:02<?, ? url/s]iB]\u001b[A\n",
      "Dl Size...:  50%|█████     | 2/4 [00:02<00:02,  1.03s/ MiB]\u001b[A\n",
      "\n",
      "Extraction completed...: 0 file [00:02, ? file/s]\u001b[A\u001b[A\n",
      "Dl Completed...:   0%|          | 0/1 [00:02<?, ? url/s]/s]\u001b[A\n",
      "Dl Size...:  75%|███████▌  | 3/4 [00:02<00:00,  1.44 MiB/s]\u001b[A\n",
      "\n",
      "Extraction completed...: 0 file [00:02, ? file/s]\u001b[A\u001b[A\n",
      "Dl Completed...:   0%|          | 0/1 [00:03<?, ? url/s]/s]\u001b[A\n",
      "Dl Size...: 100%|██████████| 4/4 [00:03<00:00,  1.48 MiB/s]\u001b[A\n",
      "\n",
      "Dl Completed...: 100%|██████████| 1/1 [00:03<00:00,  3.58s/ url]\n",
      "Dl Size...: 100%|██████████| 4/4 [00:03<00:00,  1.48 MiB/s]\u001b[A\n",
      "\n",
      "Dl Completed...: 100%|██████████| 1/1 [00:03<00:00,  3.58s/ url]\n",
      "Dl Size...: 100%|██████████| 4/4 [00:03<00:00,  1.48 MiB/s]\u001b[A\n",
      "\n",
      "Extraction completed...:   0%|          | 0/1 [00:03<?, ? file/s]\u001b[A\u001b[A\n",
      "\n",
      "Dl Completed...: 100%|██████████| 1/1 [00:03<00:00,  3.58s/ url]4s/ file]\u001b[A\u001b[A\n",
      "Dl Size...: 100%|██████████| 4/4 [00:03<00:00,  1.48 MiB/s]\u001b[A\n",
      "\n",
      "Extraction completed...: 100%|██████████| 1/1 [00:03<00:00,  3.75s/ file]\u001b[A\u001b[A\n",
      "Dl Size...: 100%|██████████| 4/4 [00:03<00:00,  1.06 MiB/s]\n",
      "Dl Completed...: 100%|██████████| 1/1 [00:03<00:00,  3.76s/ url]\n",
      "Generating splits...:   0%|          | 0/1 [00:00<?, ? splits/s]\n",
      "Generating train examples...:   0%|          | 0/100000 [00:00<?, ? examples/s]\u001b[A\n",
      "Generating train examples...:   0%|          | 107/100000 [00:00<01:33, 1068.60 examples/s]\u001b[A\n",
      "Generating train examples...:   0%|          | 242/100000 [00:00<01:21, 1231.26 examples/s]\u001b[A\n",
      "Generating train examples...:   0%|          | 388/100000 [00:00<01:14, 1334.64 examples/s]\u001b[A\n",
      "Generating train examples...:   1%|          | 540/100000 [00:00<01:10, 1406.31 examples/s]\u001b[A\n",
      "Generating train examples...:   1%|          | 723/100000 [00:00<01:03, 1558.79 examples/s]\u001b[A\n",
      "Generating train examples...:   1%|          | 938/100000 [00:00<00:56, 1757.36 examples/s]\u001b[A\n",
      "Generating train examples...:   1%|          | 1183/100000 [00:00<00:49, 1981.79 examples/s]\u001b[A\n",
      "Generating train examples...:   1%|▏         | 1412/100000 [00:00<00:47, 2077.65 examples/s]\u001b[A\n",
      "Generating train examples...:   2%|▏         | 1620/100000 [00:00<00:56, 1731.76 examples/s]\u001b[A\n",
      "Generating train examples...:   2%|▏         | 1803/100000 [00:01<00:55, 1757.75 examples/s]\u001b[A\n",
      "Generating train examples...:   2%|▏         | 2007/100000 [00:01<00:53, 1836.32 examples/s]\u001b[A\n",
      "Generating train examples...:   2%|▏         | 2204/100000 [00:01<00:52, 1873.06 examples/s]\u001b[A\n",
      "Generating train examples...:   2%|▏         | 2444/100000 [00:01<00:48, 2023.42 examples/s]\u001b[A\n",
      "Generating train examples...:   3%|▎         | 2682/100000 [00:01<00:45, 2127.39 examples/s]\u001b[A\n",
      "Generating train examples...:   3%|▎         | 2922/100000 [00:01<00:43, 2206.99 examples/s]\u001b[A\n",
      "Generating train examples...:   3%|▎         | 3160/100000 [00:01<00:42, 2256.65 examples/s]\u001b[A\n",
      "Generating train examples...:   3%|▎         | 3391/100000 [00:01<00:42, 2271.60 examples/s]\u001b[A\n",
      "Generating train examples...:   4%|▎         | 3639/100000 [00:01<00:41, 2332.26 examples/s]\u001b[A\n",
      "Generating train examples...:   4%|▍         | 3897/100000 [00:01<00:39, 2405.29 examples/s]\u001b[A\n",
      "Generating train examples...:   4%|▍         | 4165/100000 [00:02<00:38, 2485.42 examples/s]\u001b[A\n",
      "Generating train examples...:   4%|▍         | 4420/100000 [00:02<00:38, 2503.30 examples/s]\u001b[A\n",
      "Generating train examples...:   5%|▍         | 4675/100000 [00:02<00:37, 2514.66 examples/s]\u001b[A\n",
      "Generating train examples...:   5%|▍         | 4941/100000 [00:02<00:37, 2556.75 examples/s]\u001b[A\n",
      "Generating train examples...:   5%|▌         | 5197/100000 [00:02<00:38, 2440.87 examples/s]\u001b[A\n",
      "Generating train examples...:   5%|▌         | 5443/100000 [00:02<00:39, 2385.10 examples/s]\u001b[A\n",
      "Generating train examples...:   6%|▌         | 5683/100000 [00:02<00:40, 2348.32 examples/s]\u001b[A\n",
      "Generating train examples...:   6%|▌         | 5919/100000 [00:02<00:41, 2281.03 examples/s]\u001b[A\n",
      "Generating train examples...:   6%|▌         | 6151/100000 [00:02<00:40, 2291.40 examples/s]\u001b[A\n",
      "Generating train examples...:   6%|▋         | 6396/100000 [00:03<00:40, 2336.99 examples/s]\u001b[A\n",
      "Generating train examples...:   7%|▋         | 6678/100000 [00:03<00:37, 2476.68 examples/s]\u001b[A\n",
      "Generating train examples...:   7%|▋         | 6927/100000 [00:03<00:38, 2396.20 examples/s]\u001b[A\n",
      "Generating train examples...:   7%|▋         | 7168/100000 [00:03<00:38, 2385.39 examples/s]\u001b[A\n",
      "Generating train examples...:   7%|▋         | 7408/100000 [00:03<00:39, 2369.24 examples/s]\u001b[A\n",
      "Generating train examples...:   8%|▊         | 7646/100000 [00:03<00:40, 2285.72 examples/s]\u001b[A\n",
      "Generating train examples...:   8%|▊         | 7878/100000 [00:03<00:40, 2295.41 examples/s]\u001b[A\n",
      "Generating train examples...:   8%|▊         | 8117/100000 [00:03<00:39, 2322.72 examples/s]\u001b[A\n",
      "Generating train examples...:   8%|▊         | 8350/100000 [00:03<00:39, 2316.84 examples/s]\u001b[A\n",
      "Generating train examples...:   9%|▊         | 8583/100000 [00:03<00:39, 2302.12 examples/s]\u001b[A\n",
      "Generating train examples...:   9%|▉         | 8814/100000 [00:04<00:39, 2286.13 examples/s]\u001b[A\n",
      "Generating train examples...:   9%|▉         | 9043/100000 [00:04<00:39, 2278.74 examples/s]\u001b[A\n",
      "Generating train examples...:   9%|▉         | 9271/100000 [00:04<00:42, 2133.35 examples/s]\u001b[A\n",
      "Generating train examples...:   9%|▉         | 9487/100000 [00:04<00:46, 1936.80 examples/s]\u001b[A\n",
      "Generating train examples...:  10%|▉         | 9700/100000 [00:04<00:45, 1987.91 examples/s]\u001b[A\n",
      "Generating train examples...:  10%|▉         | 9927/100000 [00:04<00:43, 2065.85 examples/s]\u001b[A\n",
      "Generating train examples...:  10%|█         | 10186/100000 [00:04<00:40, 2213.85 examples/s]\u001b[A\n",
      "Generating train examples...:  10%|█         | 10454/100000 [00:04<00:38, 2346.56 examples/s]\u001b[A\n",
      "Generating train examples...:  11%|█         | 10692/100000 [00:04<00:38, 2332.69 examples/s]\u001b[A\n",
      "Generating train examples...:  11%|█         | 10928/100000 [00:05<00:39, 2276.78 examples/s]\u001b[A\n",
      "Generating train examples...:  11%|█         | 11162/100000 [00:05<00:38, 2292.63 examples/s]\u001b[A\n",
      "Generating train examples...:  11%|█▏        | 11406/100000 [00:05<00:37, 2335.15 examples/s]\u001b[A\n",
      "Generating train examples...:  12%|█▏        | 11641/100000 [00:05<00:38, 2321.10 examples/s]\u001b[A\n",
      "Generating train examples...:  12%|█▏        | 11874/100000 [00:05<00:39, 2249.49 examples/s]\u001b[A\n",
      "Generating train examples...:  12%|█▏        | 12113/100000 [00:05<00:38, 2289.17 examples/s]\u001b[A\n",
      "Generating train examples...:  12%|█▏        | 12343/100000 [00:05<00:38, 2288.28 examples/s]\u001b[A\n",
      "Generating train examples...:  13%|█▎        | 12579/100000 [00:05<00:37, 2307.66 examples/s]\u001b[A\n",
      "Generating train examples...:  13%|█▎        | 12811/100000 [00:05<00:38, 2290.90 examples/s]\u001b[A\n",
      "Generating train examples...:  13%|█▎        | 13041/100000 [00:05<00:40, 2158.30 examples/s]\u001b[A\n",
      "Generating train examples...:  13%|█▎        | 13259/100000 [00:06<00:44, 1953.54 examples/s]\u001b[A\n",
      "Generating train examples...:  13%|█▎        | 13459/100000 [00:06<00:45, 1905.71 examples/s]\u001b[A\n",
      "Generating train examples...:  14%|█▎        | 13653/100000 [00:06<00:45, 1912.79 examples/s]\u001b[A\n",
      "Generating train examples...:  14%|█▍        | 13847/100000 [00:06<00:47, 1804.03 examples/s]\u001b[A\n",
      "Generating train examples...:  14%|█▍        | 14047/100000 [00:06<00:46, 1855.27 examples/s]\u001b[A\n",
      "Generating train examples...:  14%|█▍        | 14240/100000 [00:06<00:45, 1874.40 examples/s]\u001b[A\n",
      "Generating train examples...:  14%|█▍        | 14467/100000 [00:06<00:43, 1985.68 examples/s]\u001b[A\n",
      "Generating train examples...:  15%|█▍        | 14733/100000 [00:06<00:39, 2179.23 examples/s]\u001b[A\n"
     ]
    },
    {
     "name": "stderr",
     "output_type": "stream",
     "text": [
      "Generating train examples...:  15%|█▍        | 14993/100000 [00:06<00:36, 2300.51 examples/s]\u001b[A\n",
      "Generating train examples...:  15%|█▌        | 15240/100000 [00:07<00:36, 2350.09 examples/s]\u001b[A\n",
      "Generating train examples...:  15%|█▌        | 15491/100000 [00:07<00:35, 2396.79 examples/s]\u001b[A\n",
      "Generating train examples...:  16%|█▌        | 15732/100000 [00:07<00:35, 2380.95 examples/s]\u001b[A\n",
      "Generating train examples...:  16%|█▌        | 15971/100000 [00:07<00:36, 2313.53 examples/s]\u001b[A\n",
      "Generating train examples...:  16%|█▌        | 16204/100000 [00:07<00:38, 2181.49 examples/s]\u001b[A\n",
      "Generating train examples...:  16%|█▋        | 16467/100000 [00:07<00:36, 2307.29 examples/s]\u001b[A\n",
      "Generating train examples...:  17%|█▋        | 16725/100000 [00:07<00:34, 2384.14 examples/s]\u001b[A\n",
      "Generating train examples...:  17%|█▋        | 16966/100000 [00:07<00:35, 2369.98 examples/s]\u001b[A\n",
      "Generating train examples...:  17%|█▋        | 17205/100000 [00:07<00:35, 2315.22 examples/s]\u001b[A\n",
      "Generating train examples...:  17%|█▋        | 17456/100000 [00:07<00:34, 2369.30 examples/s]\u001b[A\n",
      "Generating train examples...:  18%|█▊        | 17705/100000 [00:08<00:34, 2404.18 examples/s]\u001b[A\n",
      "Generating train examples...:  18%|█▊        | 17956/100000 [00:08<00:33, 2434.16 examples/s]\u001b[A\n",
      "Generating train examples...:  18%|█▊        | 18201/100000 [00:08<00:33, 2434.66 examples/s]\u001b[A\n",
      "Generating train examples...:  18%|█▊        | 18445/100000 [00:08<00:33, 2399.67 examples/s]\u001b[A\n",
      "Generating train examples...:  19%|█▊        | 18686/100000 [00:08<00:34, 2391.46 examples/s]\u001b[A\n",
      "Generating train examples...:  19%|█▉        | 18926/100000 [00:08<00:35, 2277.70 examples/s]\u001b[A\n",
      "Generating train examples...:  19%|█▉        | 19155/100000 [00:08<00:35, 2265.48 examples/s]\u001b[A\n",
      "Generating train examples...:  19%|█▉        | 19393/100000 [00:08<00:35, 2296.00 examples/s]\u001b[A\n",
      "Generating train examples...:  20%|█▉        | 19624/100000 [00:08<00:35, 2257.58 examples/s]\u001b[A\n",
      "Generating train examples...:  20%|█▉        | 19861/100000 [00:09<00:35, 2287.96 examples/s]\u001b[A\n",
      "Generating train examples...:  20%|██        | 20091/100000 [00:09<00:34, 2288.10 examples/s]\u001b[A\n",
      "Generating train examples...:  20%|██        | 20321/100000 [00:09<00:36, 2168.44 examples/s]\u001b[A\n",
      "Generating train examples...:  21%|██        | 20540/100000 [00:09<00:37, 2136.06 examples/s]\u001b[A\n",
      "Generating train examples...:  21%|██        | 20755/100000 [00:09<00:37, 2129.69 examples/s]\u001b[A\n",
      "Generating train examples...:  21%|██        | 20969/100000 [00:09<00:37, 2097.66 examples/s]\u001b[A\n",
      "Generating train examples...:  21%|██        | 21201/100000 [00:09<00:36, 2160.94 examples/s]\u001b[A\n",
      "Generating train examples...:  21%|██▏       | 21444/100000 [00:09<00:35, 2239.23 examples/s]\u001b[A\n",
      "Generating train examples...:  22%|██▏       | 21669/100000 [00:09<00:35, 2181.17 examples/s]\u001b[A\n",
      "Generating train examples...:  22%|██▏       | 21888/100000 [00:09<00:37, 2065.69 examples/s]\u001b[A\n",
      "Generating train examples...:  22%|██▏       | 22097/100000 [00:10<00:41, 1869.12 examples/s]\u001b[A\n",
      "Generating train examples...:  22%|██▏       | 22288/100000 [00:10<00:44, 1748.42 examples/s]\u001b[A\n",
      "Generating train examples...:  22%|██▏       | 22467/100000 [00:10<00:46, 1670.38 examples/s]\u001b[A\n",
      "Generating train examples...:  23%|██▎       | 22653/100000 [00:10<00:45, 1718.40 examples/s]\u001b[A\n",
      "Generating train examples...:  23%|██▎       | 22838/100000 [00:10<00:44, 1727.80 examples/s]\u001b[A\n",
      "Generating train examples...:  23%|██▎       | 23013/100000 [00:10<00:48, 1583.74 examples/s]\u001b[A\n",
      "Generating train examples...:  23%|██▎       | 23232/100000 [00:10<00:44, 1743.90 examples/s]\u001b[A\n",
      "Generating train examples...:  23%|██▎       | 23453/100000 [00:10<00:40, 1869.89 examples/s]\u001b[A\n",
      "Generating train examples...:  24%|██▎       | 23672/100000 [00:11<00:38, 1959.77 examples/s]\u001b[A\n",
      "Generating train examples...:  24%|██▍       | 23872/100000 [00:11<00:39, 1935.64 examples/s]\u001b[A\n",
      "Generating train examples...:  24%|██▍       | 24068/100000 [00:11<00:40, 1891.55 examples/s]\u001b[A\n",
      "Generating train examples...:  24%|██▍       | 24269/100000 [00:11<00:39, 1922.95 examples/s]\u001b[A\n",
      "Generating train examples...:  24%|██▍       | 24463/100000 [00:11<00:39, 1925.40 examples/s]\u001b[A\n",
      "Generating train examples...:  25%|██▍       | 24657/100000 [00:11<00:40, 1839.67 examples/s]\u001b[A\n",
      "Generating train examples...:  25%|██▍       | 24843/100000 [00:11<00:41, 1798.22 examples/s]\u001b[A\n",
      "Generating train examples...:  25%|██▌       | 25053/100000 [00:11<00:39, 1882.74 examples/s]\u001b[A\n",
      "Generating train examples...:  25%|██▌       | 25309/100000 [00:11<00:35, 2077.50 examples/s]\u001b[A\n",
      "Generating train examples...:  26%|██▌       | 25573/100000 [00:11<00:33, 2239.94 examples/s]\u001b[A\n",
      "Generating train examples...:  26%|██▌       | 25818/100000 [00:12<00:32, 2300.79 examples/s]\u001b[A\n",
      "Generating train examples...:  26%|██▌       | 26053/100000 [00:12<00:31, 2314.70 examples/s]\u001b[A\n",
      "Generating train examples...:  26%|██▋       | 26286/100000 [00:12<00:33, 2216.45 examples/s]\u001b[A\n",
      "Generating train examples...:  27%|██▋       | 26510/100000 [00:12<00:33, 2206.87 examples/s]\u001b[A\n",
      "Generating train examples...:  27%|██▋       | 26732/100000 [00:12<00:34, 2120.04 examples/s]\u001b[A\n",
      "Generating train examples...:  27%|██▋       | 26959/100000 [00:12<00:33, 2162.20 examples/s]\u001b[A\n",
      "Generating train examples...:  27%|██▋       | 27177/100000 [00:12<00:34, 2094.97 examples/s]\u001b[A\n",
      "Generating train examples...:  27%|██▋       | 27388/100000 [00:12<00:36, 1974.49 examples/s]\u001b[A\n",
      "Generating train examples...:  28%|██▊       | 27615/100000 [00:12<00:35, 2055.54 examples/s]\u001b[A\n",
      "Generating train examples...:  28%|██▊       | 27837/100000 [00:13<00:34, 2101.00 examples/s]\u001b[A\n",
      "Generating train examples...:  28%|██▊       | 28082/100000 [00:13<00:32, 2200.61 examples/s]\u001b[A\n",
      "Generating train examples...:  28%|██▊       | 28304/100000 [00:13<00:35, 2040.87 examples/s]\u001b[A\n",
      "Generating train examples...:  29%|██▊       | 28512/100000 [00:13<00:35, 1998.46 examples/s]\u001b[A\n",
      "Generating train examples...:  29%|██▊       | 28714/100000 [00:13<00:38, 1854.51 examples/s]\u001b[A\n",
      "Generating train examples...:  29%|██▉       | 28918/100000 [00:13<00:37, 1903.63 examples/s]\u001b[A\n",
      "Generating train examples...:  29%|██▉       | 29124/100000 [00:13<00:36, 1945.89 examples/s]\u001b[A\n",
      "Generating train examples...:  29%|██▉       | 29376/100000 [00:13<00:33, 2108.60 examples/s]\u001b[A\n",
      "Generating train examples...:  30%|██▉       | 29642/100000 [00:13<00:31, 2267.22 examples/s]\u001b[A\n",
      "Generating train examples...:  30%|██▉       | 29872/100000 [00:13<00:31, 2219.01 examples/s]\u001b[A\n",
      "Generating train examples...:  30%|███       | 30121/100000 [00:14<00:30, 2295.91 examples/s]\u001b[A\n",
      "Generating train examples...:  30%|███       | 30364/100000 [00:14<00:29, 2332.38 examples/s]\u001b[A\n",
      "Generating train examples...:  31%|███       | 30607/100000 [00:14<00:29, 2359.05 examples/s]\u001b[A\n",
      "Generating train examples...:  31%|███       | 30844/100000 [00:14<00:29, 2314.77 examples/s]\u001b[A\n",
      "Generating train examples...:  31%|███       | 31077/100000 [00:14<00:30, 2250.47 examples/s]\u001b[A\n",
      "Generating train examples...:  31%|███▏      | 31303/100000 [00:14<00:31, 2198.03 examples/s]\u001b[A\n",
      "Generating train examples...:  32%|███▏      | 31552/100000 [00:14<00:30, 2281.42 examples/s]\u001b[A\n",
      "Generating train examples...:  32%|███▏      | 31781/100000 [00:14<00:29, 2278.15 examples/s]\u001b[A\n",
      "Generating train examples...:  32%|███▏      | 32028/100000 [00:14<00:29, 2333.83 examples/s]\u001b[A\n",
      "Generating train examples...:  32%|███▏      | 32262/100000 [00:15<00:29, 2309.45 examples/s]\u001b[A\n",
      "Generating train examples...:  32%|███▏      | 32494/100000 [00:15<00:29, 2272.84 examples/s]\u001b[A\n",
      "Generating train examples...:  33%|███▎      | 32722/100000 [00:15<00:30, 2207.49 examples/s]\u001b[A\n",
      "Generating train examples...:  33%|███▎      | 32944/100000 [00:15<00:30, 2189.52 examples/s]\u001b[A\n",
      "Generating train examples...:  33%|███▎      | 33179/100000 [00:15<00:29, 2234.98 examples/s]\u001b[A\n",
      "Generating train examples...:  33%|███▎      | 33404/100000 [00:15<00:29, 2237.68 examples/s]\u001b[A\n",
      "Generating train examples...:  34%|███▎      | 33629/100000 [00:15<00:30, 2167.96 examples/s]\u001b[A\n",
      "Generating train examples...:  34%|███▍      | 33847/100000 [00:15<00:31, 2100.39 examples/s]\u001b[A\n"
     ]
    },
    {
     "name": "stderr",
     "output_type": "stream",
     "text": [
      "Generating train examples...:  34%|███▍      | 34075/100000 [00:15<00:30, 2151.16 examples/s]\u001b[A\n",
      "Generating train examples...:  34%|███▍      | 34305/100000 [00:15<00:29, 2193.43 examples/s]\u001b[A\n",
      "Generating train examples...:  35%|███▍      | 34560/100000 [00:16<00:28, 2294.94 examples/s]\u001b[A\n",
      "Generating train examples...:  35%|███▍      | 34819/100000 [00:16<00:27, 2381.16 examples/s]\u001b[A\n",
      "Generating train examples...:  35%|███▌      | 35061/100000 [00:16<00:27, 2392.29 examples/s]\u001b[A\n",
      "Generating train examples...:  35%|███▌      | 35312/100000 [00:16<00:26, 2426.52 examples/s]\u001b[A\n",
      "Generating train examples...:  36%|███▌      | 35555/100000 [00:16<00:27, 2312.13 examples/s]\u001b[A\n",
      "Generating train examples...:  36%|███▌      | 35788/100000 [00:16<00:30, 2123.78 examples/s]\u001b[A\n",
      "Generating train examples...:  36%|███▌      | 36004/100000 [00:16<00:31, 2001.85 examples/s]\u001b[A\n",
      "Generating train examples...:  36%|███▌      | 36208/100000 [00:16<00:32, 1979.43 examples/s]\u001b[A\n",
      "Generating train examples...:  36%|███▋      | 36409/100000 [00:16<00:32, 1962.59 examples/s]\u001b[A\n",
      "Generating train examples...:  37%|███▋      | 36607/100000 [00:17<00:34, 1812.15 examples/s]\u001b[A\n",
      "Generating train examples...:  37%|███▋      | 36791/100000 [00:17<00:35, 1802.64 examples/s]\u001b[A\n",
      "Generating train examples...:  37%|███▋      | 36982/100000 [00:17<00:34, 1832.12 examples/s]\u001b[A\n",
      "Generating train examples...:  37%|███▋      | 37167/100000 [00:17<00:34, 1833.69 examples/s]\u001b[A\n",
      "Generating train examples...:  37%|███▋      | 37367/100000 [00:17<00:33, 1879.48 examples/s]\u001b[A\n",
      "Generating train examples...:  38%|███▊      | 37574/100000 [00:17<00:32, 1932.71 examples/s]\u001b[A\n",
      "Generating train examples...:  38%|███▊      | 37835/100000 [00:17<00:29, 2130.85 examples/s]\u001b[A\n",
      "Generating train examples...:  38%|███▊      | 38078/100000 [00:17<00:27, 2217.44 examples/s]\u001b[A\n",
      "Generating train examples...:  38%|███▊      | 38301/100000 [00:17<00:28, 2163.27 examples/s]\u001b[A\n",
      "Generating train examples...:  39%|███▊      | 38544/100000 [00:18<00:27, 2240.15 examples/s]\u001b[A\n",
      "Generating train examples...:  39%|███▉      | 38776/100000 [00:18<00:27, 2263.12 examples/s]\u001b[A\n",
      "Generating train examples...:  39%|███▉      | 39019/100000 [00:18<00:26, 2309.90 examples/s]\u001b[A\n",
      "Generating train examples...:  39%|███▉      | 39251/100000 [00:18<00:26, 2285.03 examples/s]\u001b[A\n",
      "Generating train examples...:  39%|███▉      | 39490/100000 [00:18<00:26, 2314.52 examples/s]\u001b[A\n",
      "Generating train examples...:  40%|███▉      | 39722/100000 [00:18<00:26, 2311.22 examples/s]\u001b[A\n",
      "Generating train examples...:  40%|███▉      | 39954/100000 [00:18<00:26, 2290.74 examples/s]\u001b[A\n",
      "Generating train examples...:  40%|████      | 40192/100000 [00:18<00:25, 2316.04 examples/s]\u001b[A\n",
      "Generating train examples...:  40%|████      | 40426/100000 [00:18<00:25, 2321.07 examples/s]\u001b[A\n",
      "Generating train examples...:  41%|████      | 40692/100000 [00:18<00:24, 2420.49 examples/s]\u001b[A\n",
      "Generating train examples...:  41%|████      | 40944/100000 [00:19<00:24, 2447.85 examples/s]\u001b[A\n",
      "Generating train examples...:  41%|████      | 41189/100000 [00:19<00:24, 2387.83 examples/s]\u001b[A\n",
      "Generating train examples...:  41%|████▏     | 41451/100000 [00:19<00:23, 2455.99 examples/s]\u001b[A\n",
      "Generating train examples...:  42%|████▏     | 41707/100000 [00:19<00:23, 2485.04 examples/s]\u001b[A\n",
      "Generating train examples...:  42%|████▏     | 41956/100000 [00:19<00:23, 2434.44 examples/s]\u001b[A\n",
      "Generating train examples...:  42%|████▏     | 42204/100000 [00:19<00:23, 2447.19 examples/s]\u001b[A\n",
      "Generating train examples...:  42%|████▏     | 42456/100000 [00:19<00:23, 2467.70 examples/s]\u001b[A\n",
      "Generating train examples...:  43%|████▎     | 42716/100000 [00:19<00:22, 2504.53 examples/s]\u001b[A\n",
      "Generating train examples...:  43%|████▎     | 42967/100000 [00:19<00:23, 2387.82 examples/s]\u001b[A\n",
      "Generating train examples...:  43%|████▎     | 43208/100000 [00:19<00:26, 2111.05 examples/s]\u001b[A\n",
      "Generating train examples...:  43%|████▎     | 43426/100000 [00:20<00:27, 2075.78 examples/s]\u001b[A\n",
      "Generating train examples...:  44%|████▎     | 43659/100000 [00:20<00:26, 2144.27 examples/s]\u001b[A\n",
      "Generating train examples...:  44%|████▍     | 43889/100000 [00:20<00:25, 2186.43 examples/s]\u001b[A\n",
      "Generating train examples...:  44%|████▍     | 44113/100000 [00:20<00:25, 2200.40 examples/s]\u001b[A\n",
      "Generating train examples...:  44%|████▍     | 44336/100000 [00:20<00:25, 2188.17 examples/s]\u001b[A\n",
      "Generating train examples...:  45%|████▍     | 44562/100000 [00:20<00:25, 2207.99 examples/s]\u001b[A\n",
      "Generating train examples...:  45%|████▍     | 44784/100000 [00:20<00:27, 2020.69 examples/s]\u001b[A\n",
      "Generating train examples...:  45%|████▍     | 44990/100000 [00:20<00:29, 1874.01 examples/s]\u001b[A\n",
      "Generating train examples...:  45%|████▌     | 45182/100000 [00:21<00:32, 1695.46 examples/s]\u001b[A\n",
      "Generating train examples...:  45%|████▌     | 45357/100000 [00:21<00:36, 1508.25 examples/s]\u001b[A\n",
      "Generating train examples...:  46%|████▌     | 45514/100000 [00:21<00:36, 1504.42 examples/s]\u001b[A\n",
      "Generating train examples...:  46%|████▌     | 45669/100000 [00:21<00:37, 1446.31 examples/s]\u001b[A\n",
      "Generating train examples...:  46%|████▌     | 45850/100000 [00:21<00:35, 1540.24 examples/s]\u001b[A\n",
      "Generating train examples...:  46%|████▌     | 46034/100000 [00:21<00:33, 1620.06 examples/s]\u001b[A\n",
      "Generating train examples...:  46%|████▌     | 46248/100000 [00:21<00:30, 1762.65 examples/s]\u001b[A\n",
      "Generating train examples...:  46%|████▋     | 46480/100000 [00:21<00:27, 1920.77 examples/s]\u001b[A\n",
      "Generating train examples...:  47%|████▋     | 46724/100000 [00:21<00:25, 2068.58 examples/s]\u001b[A\n",
      "Generating train examples...:  47%|████▋     | 46934/100000 [00:22<00:27, 1943.35 examples/s]\u001b[A\n",
      "Generating train examples...:  47%|████▋     | 47132/100000 [00:22<00:27, 1940.54 examples/s]\u001b[A\n",
      "Generating train examples...:  47%|████▋     | 47329/100000 [00:22<00:28, 1881.08 examples/s]\u001b[A\n",
      "Generating train examples...:  48%|████▊     | 47519/100000 [00:22<00:27, 1880.75 examples/s]\u001b[A\n",
      "Generating train examples...:  48%|████▊     | 47726/100000 [00:22<00:27, 1933.26 examples/s]\u001b[A\n",
      "Generating train examples...:  48%|████▊     | 47921/100000 [00:22<00:27, 1922.73 examples/s]\u001b[A\n",
      "Generating train examples...:  48%|████▊     | 48130/100000 [00:22<00:26, 1971.40 examples/s]\u001b[A\n",
      "Generating train examples...:  48%|████▊     | 48376/100000 [00:22<00:24, 2114.71 examples/s]\u001b[A\n",
      "Generating train examples...:  49%|████▊     | 48600/100000 [00:22<00:23, 2148.26 examples/s]\u001b[A\n",
      "Generating train examples...:  49%|████▉     | 48816/100000 [00:22<00:23, 2137.11 examples/s]\u001b[A\n",
      "Generating train examples...:  49%|████▉     | 49060/100000 [00:23<00:22, 2225.15 examples/s]\u001b[A\n",
      "Generating train examples...:  49%|████▉     | 49291/100000 [00:23<00:22, 2245.51 examples/s]\u001b[A\n",
      "Generating train examples...:  50%|████▉     | 49516/100000 [00:23<00:25, 2015.88 examples/s]\u001b[A\n",
      "Generating train examples...:  50%|████▉     | 49723/100000 [00:23<00:24, 2025.43 examples/s]\u001b[A\n",
      "Generating train examples...:  50%|████▉     | 49929/100000 [00:23<00:24, 2024.46 examples/s]\u001b[A\n",
      "Generating train examples...:  50%|█████     | 50144/100000 [00:23<00:24, 2057.94 examples/s]\u001b[A\n",
      "Generating train examples...:  50%|█████     | 50352/100000 [00:23<00:24, 2050.81 examples/s]\u001b[A\n",
      "Generating train examples...:  51%|█████     | 50559/100000 [00:23<00:24, 2046.46 examples/s]\u001b[A\n",
      "Generating train examples...:  51%|█████     | 50769/100000 [00:23<00:23, 2061.76 examples/s]\u001b[A\n",
      "Generating train examples...:  51%|█████     | 51001/100000 [00:23<00:22, 2137.49 examples/s]\u001b[A\n",
      "Generating train examples...:  51%|█████     | 51216/100000 [00:24<00:22, 2138.42 examples/s]\u001b[A\n",
      "Generating train examples...:  51%|█████▏    | 51449/100000 [00:24<00:22, 2193.12 examples/s]\u001b[A\n",
      "Generating train examples...:  52%|█████▏    | 51669/100000 [00:24<00:22, 2151.30 examples/s]\u001b[A\n",
      "Generating train examples...:  52%|█████▏    | 51927/100000 [00:24<00:21, 2277.17 examples/s]\u001b[A\n",
      "Generating train examples...:  52%|█████▏    | 52162/100000 [00:24<00:20, 2297.81 examples/s]\u001b[A\n",
      "Generating train examples...:  52%|█████▏    | 52422/100000 [00:24<00:19, 2386.61 examples/s]\u001b[A\n",
      "Generating train examples...:  53%|█████▎    | 52662/100000 [00:24<00:20, 2358.28 examples/s]\u001b[A\n"
     ]
    },
    {
     "name": "stderr",
     "output_type": "stream",
     "text": [
      "Generating train examples...:  53%|█████▎    | 52899/100000 [00:24<00:20, 2322.55 examples/s]\u001b[A\n",
      "Generating train examples...:  53%|█████▎    | 53144/100000 [00:24<00:19, 2356.99 examples/s]\u001b[A\n",
      "Generating train examples...:  53%|█████▎    | 53405/100000 [00:24<00:19, 2429.04 examples/s]\u001b[A\n",
      "Generating train examples...:  54%|█████▎    | 53667/100000 [00:25<00:18, 2485.40 examples/s]\u001b[A\n",
      "Generating train examples...:  54%|█████▍    | 53931/100000 [00:25<00:18, 2530.21 examples/s]\u001b[A\n",
      "Generating train examples...:  54%|█████▍    | 54185/100000 [00:25<00:18, 2503.55 examples/s]\u001b[A\n",
      "Generating train examples...:  54%|█████▍    | 54443/100000 [00:25<00:18, 2524.30 examples/s]\u001b[A\n",
      "Generating train examples...:  55%|█████▍    | 54696/100000 [00:25<00:18, 2468.34 examples/s]\u001b[A\n",
      "Generating train examples...:  55%|█████▍    | 54944/100000 [00:25<00:18, 2428.16 examples/s]\u001b[A\n",
      "Generating train examples...:  55%|█████▌    | 55188/100000 [00:25<00:18, 2389.33 examples/s]\u001b[A\n",
      "Generating train examples...:  55%|█████▌    | 55436/100000 [00:25<00:18, 2413.24 examples/s]\u001b[A\n",
      "Generating train examples...:  56%|█████▌    | 55710/100000 [00:25<00:17, 2508.47 examples/s]\u001b[A\n",
      "Generating train examples...:  56%|█████▌    | 55962/100000 [00:26<00:17, 2478.61 examples/s]\u001b[A\n",
      "Generating train examples...:  56%|█████▌    | 56211/100000 [00:26<00:18, 2344.39 examples/s]\u001b[A\n",
      "Generating train examples...:  56%|█████▋    | 56447/100000 [00:26<00:21, 2035.16 examples/s]\u001b[A\n",
      "Generating train examples...:  57%|█████▋    | 56659/100000 [00:26<00:22, 1968.21 examples/s]\u001b[A\n",
      "Generating train examples...:  57%|█████▋    | 56861/100000 [00:26<00:22, 1920.41 examples/s]\u001b[A\n",
      "Generating train examples...:  57%|█████▋    | 57057/100000 [00:26<00:22, 1913.37 examples/s]\u001b[A\n",
      "Generating train examples...:  57%|█████▋    | 57271/100000 [00:26<00:21, 1973.63 examples/s]\u001b[A\n",
      "Generating train examples...:  57%|█████▋    | 57496/100000 [00:26<00:20, 2050.97 examples/s]\u001b[A\n",
      "Generating train examples...:  58%|█████▊    | 57704/100000 [00:26<00:20, 2014.72 examples/s]\u001b[A\n",
      "Generating train examples...:  58%|█████▊    | 57919/100000 [00:27<00:20, 2052.82 examples/s]\u001b[A\n",
      "Generating train examples...:  58%|█████▊    | 58174/100000 [00:27<00:19, 2196.39 examples/s]\u001b[A\n",
      "Generating train examples...:  58%|█████▊    | 58441/100000 [00:27<00:17, 2333.33 examples/s]\u001b[A\n",
      "Generating train examples...:  59%|█████▊    | 58698/100000 [00:27<00:17, 2402.07 examples/s]\u001b[A\n",
      "Generating train examples...:  59%|█████▉    | 58962/100000 [00:27<00:16, 2470.98 examples/s]\u001b[A\n",
      "Generating train examples...:  59%|█████▉    | 59230/100000 [00:27<00:16, 2531.10 examples/s]\u001b[A\n",
      "Generating train examples...:  59%|█████▉    | 59495/100000 [00:27<00:15, 2565.79 examples/s]\u001b[A\n",
      "Generating train examples...:  60%|█████▉    | 59761/100000 [00:27<00:15, 2591.41 examples/s]\u001b[A\n",
      "Generating train examples...:  60%|██████    | 60021/100000 [00:27<00:15, 2520.16 examples/s]\u001b[A\n",
      "Generating train examples...:  60%|██████    | 60274/100000 [00:27<00:16, 2477.62 examples/s]\u001b[A\n",
      "Generating train examples...:  61%|██████    | 60523/100000 [00:28<00:15, 2477.63 examples/s]\u001b[A\n",
      "Generating train examples...:  61%|██████    | 60789/100000 [00:28<00:15, 2530.42 examples/s]\u001b[A\n",
      "Generating train examples...:  61%|██████    | 61043/100000 [00:28<00:15, 2466.17 examples/s]\u001b[A\n",
      "Generating train examples...:  61%|██████▏   | 61291/100000 [00:28<00:16, 2368.75 examples/s]\u001b[A\n",
      "Generating train examples...:  62%|██████▏   | 61541/100000 [00:28<00:15, 2405.31 examples/s]\u001b[A\n",
      "Generating train examples...:  62%|██████▏   | 61783/100000 [00:28<00:16, 2365.80 examples/s]\u001b[A\n",
      "Generating train examples...:  62%|██████▏   | 62034/100000 [00:28<00:15, 2406.63 examples/s]\u001b[A\n",
      "Generating train examples...:  62%|██████▏   | 62279/100000 [00:28<00:15, 2418.28 examples/s]\u001b[A\n",
      "Generating train examples...:  63%|██████▎   | 62522/100000 [00:28<00:15, 2387.79 examples/s]\u001b[A\n",
      "Generating train examples...:  63%|██████▎   | 62762/100000 [00:29<00:15, 2349.70 examples/s]\u001b[A\n",
      "Generating train examples...:  63%|██████▎   | 63011/100000 [00:29<00:15, 2389.23 examples/s]\u001b[A\n",
      "Generating train examples...:  63%|██████▎   | 63271/100000 [00:29<00:14, 2448.99 examples/s]\u001b[A\n",
      "Generating train examples...:  64%|██████▎   | 63534/100000 [00:29<00:14, 2501.08 examples/s]\u001b[A\n",
      "Generating train examples...:  64%|██████▍   | 63785/100000 [00:29<00:14, 2452.44 examples/s]\u001b[A\n",
      "Generating train examples...:  64%|██████▍   | 64031/100000 [00:29<00:14, 2403.26 examples/s]\u001b[A\n",
      "Generating train examples...:  64%|██████▍   | 64279/100000 [00:29<00:14, 2423.91 examples/s]\u001b[A\n",
      "Generating train examples...:  65%|██████▍   | 64541/100000 [00:29<00:14, 2479.73 examples/s]\u001b[A\n",
      "Generating train examples...:  65%|██████▍   | 64802/100000 [00:29<00:13, 2518.12 examples/s]\u001b[A\n",
      "Generating train examples...:  65%|██████▌   | 65068/100000 [00:29<00:13, 2557.66 examples/s]\u001b[A\n",
      "Generating train examples...:  65%|██████▌   | 65331/100000 [00:30<00:13, 2578.77 examples/s]\u001b[A\n",
      "Generating train examples...:  66%|██████▌   | 65596/100000 [00:30<00:13, 2596.97 examples/s]\u001b[A\n",
      "Generating train examples...:  66%|██████▌   | 65856/100000 [00:30<00:13, 2549.90 examples/s]\u001b[A\n",
      "Generating train examples...:  66%|██████▌   | 66112/100000 [00:30<00:13, 2473.21 examples/s]\u001b[A\n",
      "Generating train examples...:  66%|██████▋   | 66360/100000 [00:30<00:13, 2432.77 examples/s]\u001b[A\n",
      "Generating train examples...:  67%|██████▋   | 66627/100000 [00:30<00:13, 2500.44 examples/s]\u001b[A\n",
      "Generating train examples...:  67%|██████▋   | 66878/100000 [00:30<00:13, 2457.19 examples/s]\u001b[A\n",
      "Generating train examples...:  67%|██████▋   | 67125/100000 [00:30<00:13, 2411.88 examples/s]\u001b[A\n",
      "Generating train examples...:  67%|██████▋   | 67393/100000 [00:30<00:13, 2486.53 examples/s]\u001b[A\n",
      "Generating train examples...:  68%|██████▊   | 67643/100000 [00:30<00:13, 2446.89 examples/s]\u001b[A\n",
      "Generating train examples...:  68%|██████▊   | 67889/100000 [00:31<00:13, 2433.74 examples/s]\u001b[A\n",
      "Generating train examples...:  68%|██████▊   | 68133/100000 [00:31<00:13, 2404.42 examples/s]\u001b[A\n",
      "Generating train examples...:  68%|██████▊   | 68405/100000 [00:31<00:12, 2494.45 examples/s]\u001b[A\n",
      "Generating train examples...:  69%|██████▊   | 68661/100000 [00:31<00:12, 2512.07 examples/s]\u001b[A\n",
      "Generating train examples...:  69%|██████▉   | 68913/100000 [00:31<00:12, 2484.69 examples/s]\u001b[A\n",
      "Generating train examples...:  69%|██████▉   | 69162/100000 [00:31<00:12, 2475.89 examples/s]\u001b[A\n",
      "Generating train examples...:  69%|██████▉   | 69415/100000 [00:31<00:12, 2490.83 examples/s]\u001b[A\n",
      "Generating train examples...:  70%|██████▉   | 69665/100000 [00:31<00:12, 2415.19 examples/s]\u001b[A\n",
      "Generating train examples...:  70%|██████▉   | 69908/100000 [00:31<00:12, 2337.58 examples/s]\u001b[A\n",
      "Generating train examples...:  70%|███████   | 70165/100000 [00:31<00:12, 2402.36 examples/s]\u001b[A\n",
      "Generating train examples...:  70%|███████   | 70407/100000 [00:32<00:12, 2398.44 examples/s]\u001b[A\n",
      "Generating train examples...:  71%|███████   | 70648/100000 [00:32<00:12, 2375.09 examples/s]\u001b[A\n",
      "Generating train examples...:  71%|███████   | 70906/100000 [00:32<00:11, 2432.58 examples/s]\u001b[A\n",
      "Generating train examples...:  71%|███████   | 71150/100000 [00:32<00:12, 2378.06 examples/s]\u001b[A\n",
      "Generating train examples...:  71%|███████▏  | 71389/100000 [00:32<00:12, 2314.65 examples/s]\u001b[A\n",
      "Generating train examples...:  72%|███████▏  | 71624/100000 [00:32<00:12, 2322.78 examples/s]\u001b[A\n",
      "Generating train examples...:  72%|███████▏  | 71892/100000 [00:32<00:11, 2425.51 examples/s]\u001b[A\n",
      "Generating train examples...:  72%|███████▏  | 72136/100000 [00:32<00:11, 2377.43 examples/s]\u001b[A\n",
      "Generating train examples...:  72%|███████▏  | 72375/100000 [00:32<00:11, 2374.31 examples/s]\u001b[A\n",
      "Generating train examples...:  73%|███████▎  | 72638/100000 [00:33<00:11, 2448.32 examples/s]\u001b[A\n",
      "Generating train examples...:  73%|███████▎  | 72939/100000 [00:33<00:10, 2612.15 examples/s]\u001b[A\n",
      "Generating train examples...:  73%|███████▎  | 73201/100000 [00:33<00:10, 2529.68 examples/s]\u001b[A\n",
      "Generating train examples...:  73%|███████▎  | 73455/100000 [00:33<00:10, 2487.78 examples/s]\u001b[A\n",
      "Generating train examples...:  74%|███████▎  | 73705/100000 [00:33<00:10, 2440.38 examples/s]\u001b[A\n"
     ]
    },
    {
     "name": "stderr",
     "output_type": "stream",
     "text": [
      "Generating train examples...:  74%|███████▍  | 73958/100000 [00:33<00:10, 2463.98 examples/s]\u001b[A\n",
      "Generating train examples...:  74%|███████▍  | 74217/100000 [00:33<00:10, 2498.27 examples/s]\u001b[A\n",
      "Generating train examples...:  74%|███████▍  | 74488/100000 [00:33<00:09, 2558.89 examples/s]\u001b[A\n",
      "Generating train examples...:  75%|███████▍  | 74758/100000 [00:33<00:09, 2599.13 examples/s]\u001b[A\n",
      "Generating train examples...:  75%|███████▌  | 75019/100000 [00:33<00:09, 2593.59 examples/s]\u001b[A\n",
      "Generating train examples...:  75%|███████▌  | 75288/100000 [00:34<00:09, 2621.03 examples/s]\u001b[A\n",
      "Generating train examples...:  76%|███████▌  | 75552/100000 [00:34<00:09, 2625.50 examples/s]\u001b[A\n",
      "Generating train examples...:  76%|███████▌  | 75815/100000 [00:34<00:09, 2460.48 examples/s]\u001b[A\n",
      "Generating train examples...:  76%|███████▌  | 76064/100000 [00:34<00:09, 2453.98 examples/s]\u001b[A\n",
      "Generating train examples...:  76%|███████▋  | 76311/100000 [00:34<00:09, 2447.71 examples/s]\u001b[A\n",
      "Generating train examples...:  77%|███████▋  | 76575/100000 [00:34<00:09, 2501.12 examples/s]\u001b[A\n",
      "Generating train examples...:  77%|███████▋  | 76837/100000 [00:34<00:09, 2535.24 examples/s]\u001b[A\n",
      "Generating train examples...:  77%|███████▋  | 77113/100000 [00:34<00:08, 2600.79 examples/s]\u001b[A\n",
      "Generating train examples...:  77%|███████▋  | 77374/100000 [00:34<00:08, 2529.86 examples/s]\u001b[A\n",
      "Generating train examples...:  78%|███████▊  | 77645/100000 [00:34<00:08, 2580.82 examples/s]\u001b[A\n",
      "Generating train examples...:  78%|███████▊  | 77904/100000 [00:35<00:08, 2500.63 examples/s]\u001b[A\n",
      "Generating train examples...:  78%|███████▊  | 78158/100000 [00:35<00:08, 2509.82 examples/s]\u001b[A\n",
      "Generating train examples...:  78%|███████▊  | 78419/100000 [00:35<00:08, 2538.24 examples/s]\u001b[A\n",
      "Generating train examples...:  79%|███████▊  | 78682/100000 [00:35<00:08, 2564.55 examples/s]\u001b[A\n",
      "Generating train examples...:  79%|███████▉  | 78939/100000 [00:35<00:08, 2535.43 examples/s]\u001b[A\n",
      "Generating train examples...:  79%|███████▉  | 79194/100000 [00:35<00:08, 2538.79 examples/s]\u001b[A\n",
      "Generating train examples...:  79%|███████▉  | 79449/100000 [00:35<00:08, 2478.01 examples/s]\u001b[A\n",
      "Generating train examples...:  80%|███████▉  | 79698/100000 [00:35<00:08, 2445.73 examples/s]\u001b[A\n",
      "Generating train examples...:  80%|███████▉  | 79943/100000 [00:35<00:08, 2403.27 examples/s]\u001b[A\n",
      "Generating train examples...:  80%|████████  | 80184/100000 [00:36<00:08, 2280.33 examples/s]\u001b[A\n",
      "Generating train examples...:  80%|████████  | 80414/100000 [00:36<00:08, 2272.42 examples/s]\u001b[A\n",
      "Generating train examples...:  81%|████████  | 80675/100000 [00:36<00:08, 2367.23 examples/s]\u001b[A\n",
      "Generating train examples...:  81%|████████  | 80913/100000 [00:36<00:08, 2350.69 examples/s]\u001b[A\n",
      "Generating train examples...:  81%|████████  | 81156/100000 [00:36<00:07, 2371.14 examples/s]\u001b[A\n",
      "Generating train examples...:  81%|████████▏ | 81394/100000 [00:36<00:08, 2282.23 examples/s]\u001b[A\n",
      "Generating train examples...:  82%|████████▏ | 81642/100000 [00:36<00:07, 2336.69 examples/s]\u001b[A\n",
      "Generating train examples...:  82%|████████▏ | 81883/100000 [00:36<00:07, 2355.24 examples/s]\u001b[A\n",
      "Generating train examples...:  82%|████████▏ | 82120/100000 [00:36<00:07, 2323.75 examples/s]\u001b[A\n",
      "Generating train examples...:  82%|████████▏ | 82361/100000 [00:36<00:07, 2346.87 examples/s]\u001b[A\n",
      "Generating train examples...:  83%|████████▎ | 82617/100000 [00:37<00:07, 2409.41 examples/s]\u001b[A\n",
      "Generating train examples...:  83%|████████▎ | 82884/100000 [00:37<00:06, 2485.05 examples/s]\u001b[A\n",
      "Generating train examples...:  83%|████████▎ | 83155/100000 [00:37<00:06, 2550.60 examples/s]\u001b[A\n",
      "Generating train examples...:  83%|████████▎ | 83418/100000 [00:37<00:06, 2572.49 examples/s]\u001b[A\n",
      "Generating train examples...:  84%|████████▎ | 83676/100000 [00:37<00:06, 2552.64 examples/s]\u001b[A\n",
      "Generating train examples...:  84%|████████▍ | 83932/100000 [00:37<00:06, 2522.24 examples/s]\u001b[A\n",
      "Generating train examples...:  84%|████████▍ | 84185/100000 [00:37<00:06, 2472.03 examples/s]\u001b[A\n",
      "Generating train examples...:  84%|████████▍ | 84433/100000 [00:37<00:06, 2462.87 examples/s]\u001b[A\n",
      "Generating train examples...:  85%|████████▍ | 84703/100000 [00:37<00:06, 2532.13 examples/s]\u001b[A\n",
      "Generating train examples...:  85%|████████▍ | 84969/100000 [00:37<00:05, 2568.46 examples/s]\u001b[A\n",
      "Generating train examples...:  85%|████████▌ | 85236/100000 [00:38<00:05, 2598.53 examples/s]\u001b[A\n",
      "Generating train examples...:  85%|████████▌ | 85498/100000 [00:38<00:05, 2604.77 examples/s]\u001b[A\n",
      "Generating train examples...:  86%|████████▌ | 85759/100000 [00:38<00:05, 2601.82 examples/s]\u001b[A\n",
      "Generating train examples...:  86%|████████▌ | 86020/100000 [00:38<00:05, 2598.66 examples/s]\u001b[A\n",
      "Generating train examples...:  86%|████████▋ | 86280/100000 [00:38<00:05, 2595.91 examples/s]\u001b[A\n",
      "Generating train examples...:  87%|████████▋ | 86540/100000 [00:38<00:05, 2569.85 examples/s]\u001b[A\n",
      "Generating train examples...:  87%|████████▋ | 86798/100000 [00:38<00:05, 2545.57 examples/s]\u001b[A\n",
      "Generating train examples...:  87%|████████▋ | 87062/100000 [00:38<00:05, 2570.71 examples/s]\u001b[A\n",
      "Generating train examples...:  87%|████████▋ | 87335/100000 [00:38<00:04, 2614.83 examples/s]\u001b[A\n",
      "Generating train examples...:  88%|████████▊ | 87604/100000 [00:39<00:04, 2637.10 examples/s]\u001b[A\n",
      "Generating train examples...:  88%|████████▊ | 87871/100000 [00:39<00:04, 2646.06 examples/s]\u001b[A\n",
      "Generating train examples...:  88%|████████▊ | 88136/100000 [00:39<00:04, 2631.08 examples/s]\u001b[A\n",
      "Generating train examples...:  88%|████████▊ | 88400/100000 [00:39<00:04, 2622.73 examples/s]\u001b[A\n",
      "Generating train examples...:  89%|████████▊ | 88676/100000 [00:39<00:04, 2660.46 examples/s]\u001b[A\n",
      "Generating train examples...:  89%|████████▉ | 88947/100000 [00:39<00:04, 2672.45 examples/s]\u001b[A\n",
      "Generating train examples...:  89%|████████▉ | 89215/100000 [00:39<00:04, 2670.08 examples/s]\u001b[A\n",
      "Generating train examples...:  89%|████████▉ | 89483/100000 [00:39<00:03, 2661.50 examples/s]\u001b[A\n",
      "Generating train examples...:  90%|████████▉ | 89750/100000 [00:39<00:03, 2658.25 examples/s]\u001b[A\n",
      "Generating train examples...:  90%|█████████ | 90016/100000 [00:39<00:03, 2649.68 examples/s]\u001b[A\n",
      "Generating train examples...:  90%|█████████ | 90281/100000 [00:40<00:03, 2601.82 examples/s]\u001b[A\n",
      "Generating train examples...:  91%|█████████ | 90542/100000 [00:40<00:03, 2550.64 examples/s]\u001b[A\n",
      "Generating train examples...:  91%|█████████ | 90798/100000 [00:40<00:03, 2530.88 examples/s]\u001b[A\n",
      "Generating train examples...:  91%|█████████ | 91058/100000 [00:40<00:03, 2551.01 examples/s]\u001b[A\n",
      "Generating train examples...:  91%|█████████▏| 91328/100000 [00:40<00:03, 2592.79 examples/s]\u001b[A\n",
      "Generating train examples...:  92%|█████████▏| 91600/100000 [00:40<00:03, 2627.82 examples/s]\u001b[A\n",
      "Generating train examples...:  92%|█████████▏| 91863/100000 [00:40<00:03, 2574.79 examples/s]\u001b[A\n",
      "Generating train examples...:  92%|█████████▏| 92121/100000 [00:40<00:03, 2506.96 examples/s]\u001b[A\n",
      "Generating train examples...:  92%|█████████▏| 92390/100000 [00:40<00:02, 2559.64 examples/s]\u001b[A\n",
      "Generating train examples...:  93%|█████████▎| 92648/100000 [00:40<00:02, 2563.17 examples/s]\u001b[A\n",
      "Generating train examples...:  93%|█████████▎| 92905/100000 [00:41<00:02, 2545.60 examples/s]\u001b[A\n",
      "Generating train examples...:  93%|█████████▎| 93160/100000 [00:41<00:02, 2522.91 examples/s]\u001b[A\n",
      "Generating train examples...:  93%|█████████▎| 93413/100000 [00:41<00:02, 2454.96 examples/s]\u001b[A\n",
      "Generating train examples...:  94%|█████████▎| 93659/100000 [00:41<00:02, 2438.29 examples/s]\u001b[A\n",
      "Generating train examples...:  94%|█████████▍| 93906/100000 [00:41<00:02, 2445.93 examples/s]\u001b[A\n",
      "Generating train examples...:  94%|█████████▍| 94168/100000 [00:41<00:02, 2495.42 examples/s]\u001b[A\n",
      "Generating train examples...:  94%|█████████▍| 94418/100000 [00:41<00:02, 2444.69 examples/s]\u001b[A\n",
      "Generating train examples...:  95%|█████████▍| 94685/100000 [00:41<00:02, 2508.35 examples/s]\u001b[A\n",
      "Generating train examples...:  95%|█████████▍| 94952/100000 [00:41<00:01, 2555.51 examples/s]\u001b[A\n",
      "Generating train examples...:  95%|█████████▌| 95216/100000 [00:41<00:01, 2578.04 examples/s]\u001b[A\n",
      "Generating train examples...:  95%|█████████▌| 95475/100000 [00:42<00:01, 2575.06 examples/s]\u001b[A\n"
     ]
    },
    {
     "name": "stderr",
     "output_type": "stream",
     "text": [
      "Generating train examples...:  96%|█████████▌| 95735/100000 [00:42<00:01, 2579.76 examples/s]\u001b[A\n",
      "Generating train examples...:  96%|█████████▌| 95995/100000 [00:42<00:01, 2582.98 examples/s]\u001b[A\n",
      "Generating train examples...:  96%|█████████▋| 96257/100000 [00:42<00:01, 2593.82 examples/s]\u001b[A\n",
      "Generating train examples...:  97%|█████████▋| 96517/100000 [00:42<00:01, 2558.82 examples/s]\u001b[A\n",
      "Generating train examples...:  97%|█████████▋| 96774/100000 [00:42<00:01, 2521.95 examples/s]\u001b[A\n",
      "Generating train examples...:  97%|█████████▋| 97027/100000 [00:42<00:01, 2503.20 examples/s]\u001b[A\n",
      "Generating train examples...:  97%|█████████▋| 97278/100000 [00:42<00:01, 2447.91 examples/s]\u001b[A\n",
      "Generating train examples...:  98%|█████████▊| 97536/100000 [00:42<00:00, 2485.35 examples/s]\u001b[A\n",
      "Generating train examples...:  98%|█████████▊| 97793/100000 [00:42<00:00, 2508.81 examples/s]\u001b[A\n",
      "Generating train examples...:  98%|█████████▊| 98045/100000 [00:43<00:00, 2421.45 examples/s]\u001b[A\n",
      "Generating train examples...:  98%|█████████▊| 98288/100000 [00:43<00:00, 2270.79 examples/s]\u001b[A\n",
      "Generating train examples...:  99%|█████████▊| 98518/100000 [00:43<00:00, 2196.72 examples/s]\u001b[A\n",
      "Generating train examples...:  99%|█████████▊| 98740/100000 [00:43<00:00, 2160.08 examples/s]\u001b[A\n",
      "Generating train examples...:  99%|█████████▉| 98971/100000 [00:43<00:00, 2199.28 examples/s]\u001b[A\n",
      "Generating train examples...:  99%|█████████▉| 99201/100000 [00:43<00:00, 2227.16 examples/s]\u001b[A\n",
      "Generating train examples...:  99%|█████████▉| 99447/100000 [00:43<00:00, 2293.82 examples/s]\u001b[A\n",
      "Generating train examples...: 100%|█████████▉| 99679/100000 [00:43<00:00, 2299.79 examples/s]\u001b[A\n",
      "Generating train examples...: 100%|█████████▉| 99910/100000 [00:43<00:00, 2258.75 examples/s]\u001b[A\n",
      "                                                                                             \u001b[A\n",
      "Shuffling ~/tensorflow_datasets/movielens/100k-ratings/0.1.1.incomplete45A7EM/movielens-train.tfrecord*...:   0%|          | 0/100000 [00:00<?, ? examples/s]\u001b[A\n",
      "Shuffling ~/tensorflow_datasets/movielens/100k-ratings/0.1.1.incomplete45A7EM/movielens-train.tfrecord*...:   0%|          | 438/100000 [00:00<00:22, 4369.87 examples/s]\u001b[A\n",
      "Shuffling ~/tensorflow_datasets/movielens/100k-ratings/0.1.1.incomplete45A7EM/movielens-train.tfrecord*...:   3%|▎         | 2787/100000 [00:00<00:06, 15593.61 examples/s]\u001b[A\n",
      "Shuffling ~/tensorflow_datasets/movielens/100k-ratings/0.1.1.incomplete45A7EM/movielens-train.tfrecord*...:   5%|▌         | 5006/100000 [00:00<00:05, 18591.64 examples/s]\u001b[A\n",
      "Shuffling ~/tensorflow_datasets/movielens/100k-ratings/0.1.1.incomplete45A7EM/movielens-train.tfrecord*...:   7%|▋         | 6866/100000 [00:00<00:05, 18583.41 examples/s]\u001b[A\n",
      "Shuffling ~/tensorflow_datasets/movielens/100k-ratings/0.1.1.incomplete45A7EM/movielens-train.tfrecord*...:   9%|▉         | 8968/100000 [00:00<00:04, 19458.57 examples/s]\u001b[A\n",
      "Shuffling ~/tensorflow_datasets/movielens/100k-ratings/0.1.1.incomplete45A7EM/movielens-train.tfrecord*...:  11%|█         | 11097/100000 [00:00<00:04, 20073.17 examples/s]\u001b[A\n",
      "Shuffling ~/tensorflow_datasets/movielens/100k-ratings/0.1.1.incomplete45A7EM/movielens-train.tfrecord*...:  13%|█▎        | 13282/100000 [00:00<00:04, 20639.38 examples/s]\u001b[A\n",
      "Shuffling ~/tensorflow_datasets/movielens/100k-ratings/0.1.1.incomplete45A7EM/movielens-train.tfrecord*...:  15%|█▌        | 15490/100000 [00:00<00:04, 21084.80 examples/s]\u001b[A\n",
      "Shuffling ~/tensorflow_datasets/movielens/100k-ratings/0.1.1.incomplete45A7EM/movielens-train.tfrecord*...:  18%|█▊        | 17942/100000 [00:00<00:03, 22152.38 examples/s]\u001b[A\n",
      "Shuffling ~/tensorflow_datasets/movielens/100k-ratings/0.1.1.incomplete45A7EM/movielens-train.tfrecord*...:  20%|██        | 20303/100000 [00:01<00:03, 22526.19 examples/s]\u001b[A\n",
      "Shuffling ~/tensorflow_datasets/movielens/100k-ratings/0.1.1.incomplete45A7EM/movielens-train.tfrecord*...:  23%|██▎       | 22801/100000 [00:01<00:03, 23250.57 examples/s]\u001b[A\n",
      "Shuffling ~/tensorflow_datasets/movielens/100k-ratings/0.1.1.incomplete45A7EM/movielens-train.tfrecord*...:  25%|██▌       | 25207/100000 [00:01<00:03, 23490.04 examples/s]\u001b[A\n",
      "Shuffling ~/tensorflow_datasets/movielens/100k-ratings/0.1.1.incomplete45A7EM/movielens-train.tfrecord*...:  28%|██▊       | 27556/100000 [00:01<00:03, 23094.59 examples/s]\u001b[A\n",
      "Shuffling ~/tensorflow_datasets/movielens/100k-ratings/0.1.1.incomplete45A7EM/movielens-train.tfrecord*...:  30%|██▉       | 29867/100000 [00:01<00:03, 22990.49 examples/s]\u001b[A\n",
      "Shuffling ~/tensorflow_datasets/movielens/100k-ratings/0.1.1.incomplete45A7EM/movielens-train.tfrecord*...:  32%|███▏      | 32167/100000 [00:01<00:02, 22770.36 examples/s]\u001b[A\n",
      "Shuffling ~/tensorflow_datasets/movielens/100k-ratings/0.1.1.incomplete45A7EM/movielens-train.tfrecord*...:  35%|███▍      | 34640/100000 [00:01<00:02, 23350.42 examples/s]\u001b[A\n",
      "Shuffling ~/tensorflow_datasets/movielens/100k-ratings/0.1.1.incomplete45A7EM/movielens-train.tfrecord*...:  37%|███▋      | 37057/100000 [00:01<00:02, 23574.01 examples/s]\u001b[A\n",
      "Shuffling ~/tensorflow_datasets/movielens/100k-ratings/0.1.1.incomplete45A7EM/movielens-train.tfrecord*...:  39%|███▉      | 39486/100000 [00:01<00:02, 23764.74 examples/s]\u001b[A\n",
      "Shuffling ~/tensorflow_datasets/movielens/100k-ratings/0.1.1.incomplete45A7EM/movielens-train.tfrecord*...:  42%|████▏     | 41864/100000 [00:01<00:02, 23327.86 examples/s]\u001b[A\n",
      "Shuffling ~/tensorflow_datasets/movielens/100k-ratings/0.1.1.incomplete45A7EM/movielens-train.tfrecord*...:  44%|████▍     | 44200/100000 [00:02<00:02, 23186.81 examples/s]\u001b[A\n",
      "Shuffling ~/tensorflow_datasets/movielens/100k-ratings/0.1.1.incomplete45A7EM/movielens-train.tfrecord*...:  47%|████▋     | 46579/100000 [00:02<00:02, 23340.78 examples/s]\u001b[A\n",
      "Shuffling ~/tensorflow_datasets/movielens/100k-ratings/0.1.1.incomplete45A7EM/movielens-train.tfrecord*...:  49%|████▉     | 48915/100000 [00:02<00:02, 22834.20 examples/s]\u001b[A\n",
      "Shuffling ~/tensorflow_datasets/movielens/100k-ratings/0.1.1.incomplete45A7EM/movielens-train.tfrecord*...:  51%|█████     | 51202/100000 [00:02<00:02, 21997.28 examples/s]\u001b[A\n",
      "Shuffling ~/tensorflow_datasets/movielens/100k-ratings/0.1.1.incomplete45A7EM/movielens-train.tfrecord*...:  54%|█████▎    | 53572/100000 [00:02<00:02, 22473.21 examples/s]\u001b[A\n",
      "Shuffling ~/tensorflow_datasets/movielens/100k-ratings/0.1.1.incomplete45A7EM/movielens-train.tfrecord*...:  56%|█████▌    | 55967/100000 [00:02<00:01, 22895.28 examples/s]\u001b[A\n",
      "Shuffling ~/tensorflow_datasets/movielens/100k-ratings/0.1.1.incomplete45A7EM/movielens-train.tfrecord*...:  58%|█████▊    | 58263/100000 [00:02<00:01, 22539.46 examples/s]\u001b[A\n",
      "Shuffling ~/tensorflow_datasets/movielens/100k-ratings/0.1.1.incomplete45A7EM/movielens-train.tfrecord*...:  61%|██████    | 60522/100000 [00:02<00:01, 22233.59 examples/s]\u001b[A\n",
      "Shuffling ~/tensorflow_datasets/movielens/100k-ratings/0.1.1.incomplete45A7EM/movielens-train.tfrecord*...:  63%|██████▎   | 62749/100000 [00:02<00:01, 22087.55 examples/s]\u001b[A\n",
      "Shuffling ~/tensorflow_datasets/movielens/100k-ratings/0.1.1.incomplete45A7EM/movielens-train.tfrecord*...:  65%|██████▍   | 64961/100000 [00:02<00:01, 21255.90 examples/s]\u001b[A\n",
      "Shuffling ~/tensorflow_datasets/movielens/100k-ratings/0.1.1.incomplete45A7EM/movielens-train.tfrecord*...:  67%|██████▋   | 67272/100000 [00:03<00:01, 21780.27 examples/s]\u001b[A\n",
      "Shuffling ~/tensorflow_datasets/movielens/100k-ratings/0.1.1.incomplete45A7EM/movielens-train.tfrecord*...:  69%|██████▉   | 69458/100000 [00:03<00:01, 21749.18 examples/s]\u001b[A\n",
      "Shuffling ~/tensorflow_datasets/movielens/100k-ratings/0.1.1.incomplete45A7EM/movielens-train.tfrecord*...:  72%|███████▏  | 71638/100000 [00:03<00:01, 20835.16 examples/s]\u001b[A\n",
      "Shuffling ~/tensorflow_datasets/movielens/100k-ratings/0.1.1.incomplete45A7EM/movielens-train.tfrecord*...:  74%|███████▎  | 73732/100000 [00:03<00:01, 18516.93 examples/s]\u001b[A\n",
      "Shuffling ~/tensorflow_datasets/movielens/100k-ratings/0.1.1.incomplete45A7EM/movielens-train.tfrecord*...:  76%|███████▌  | 75853/100000 [00:03<00:01, 19227.22 examples/s]\u001b[A\n",
      "Shuffling ~/tensorflow_datasets/movielens/100k-ratings/0.1.1.incomplete45A7EM/movielens-train.tfrecord*...:  78%|███████▊  | 77819/100000 [00:03<00:01, 19317.53 examples/s]\u001b[A\n"
     ]
    },
    {
     "name": "stderr",
     "output_type": "stream",
     "text": [
      "Shuffling ~/tensorflow_datasets/movielens/100k-ratings/0.1.1.incomplete45A7EM/movielens-train.tfrecord*...:  80%|████████  | 80124/100000 [00:03<00:00, 20345.20 examples/s]\u001b[A\n",
      "Shuffling ~/tensorflow_datasets/movielens/100k-ratings/0.1.1.incomplete45A7EM/movielens-train.tfrecord*...:  82%|████████▏ | 82381/100000 [00:03<00:00, 20977.21 examples/s]\u001b[A\n",
      "Shuffling ~/tensorflow_datasets/movielens/100k-ratings/0.1.1.incomplete45A7EM/movielens-train.tfrecord*...:  85%|████████▍ | 84717/100000 [00:03<00:00, 21644.87 examples/s]\u001b[A\n",
      "Shuffling ~/tensorflow_datasets/movielens/100k-ratings/0.1.1.incomplete45A7EM/movielens-train.tfrecord*...:  87%|████████▋ | 86972/100000 [00:04<00:00, 21885.42 examples/s]\u001b[A\n",
      "Shuffling ~/tensorflow_datasets/movielens/100k-ratings/0.1.1.incomplete45A7EM/movielens-train.tfrecord*...:  89%|████████▉ | 89217/100000 [00:04<00:00, 22049.33 examples/s]\u001b[A\n",
      "Shuffling ~/tensorflow_datasets/movielens/100k-ratings/0.1.1.incomplete45A7EM/movielens-train.tfrecord*...:  91%|█████████▏| 91432/100000 [00:04<00:00, 21851.07 examples/s]\u001b[A\n",
      "Shuffling ~/tensorflow_datasets/movielens/100k-ratings/0.1.1.incomplete45A7EM/movielens-train.tfrecord*...:  94%|█████████▍| 93775/100000 [00:04<00:00, 22313.84 examples/s]\u001b[A\n",
      "Shuffling ~/tensorflow_datasets/movielens/100k-ratings/0.1.1.incomplete45A7EM/movielens-train.tfrecord*...:  96%|█████████▌| 96012/100000 [00:04<00:00, 21863.54 examples/s]\u001b[A\n",
      "Shuffling ~/tensorflow_datasets/movielens/100k-ratings/0.1.1.incomplete45A7EM/movielens-train.tfrecord*...:  98%|█████████▊| 98204/100000 [00:04<00:00, 21408.37 examples/s]\u001b[A\n",
      "2022-10-01 18:18:27.733047: W tensorflow/stream_executor/platform/default/dso_loader.cc:64] Could not load dynamic library 'libcuda.so.1'; dlerror: libcuda.so.1: cannot open shared object file: No such file or directory\n",
      "2022-10-01 18:18:27.733153: W tensorflow/stream_executor/cuda/cuda_driver.cc:263] failed call to cuInit: UNKNOWN ERROR (303)\n",
      "2022-10-01 18:18:27.733269: I tensorflow/stream_executor/cuda/cuda_diagnostics.cc:156] kernel driver does not appear to be running on this host (2d079527db81): /proc/driver/nvidia/version does not exist\n",
      "2022-10-01 18:18:27.734447: I tensorflow/core/platform/cpu_feature_guard.cc:193] This TensorFlow binary is optimized with oneAPI Deep Neural Network Library (oneDNN) to use the following CPU instructions in performance-critical operations:  AVX2 FMA\n",
      "To enable them in other operations, rebuild TensorFlow with the appropriate compiler flags.\n"
     ]
    },
    {
     "name": "stdout",
     "output_type": "stream",
     "text": [
      "\u001b[1mDataset movielens downloaded and prepared to ~/tensorflow_datasets/movielens/100k-ratings/0.1.1. Subsequent calls will reuse this data.\u001b[0m\n",
      "\u001b[1mDownloading and preparing dataset 4.70 MiB (download: 4.70 MiB, generated: 150.35 KiB, total: 4.84 MiB) to ~/tensorflow_datasets/movielens/100k-movies/0.1.1...\u001b[0m\n"
     ]
    },
    {
     "name": "stderr",
     "output_type": "stream",
     "text": [
      "Dl Completed...: 0 url [00:00, ? url/s]\n",
      "Dl Size...: 0 MiB [00:00, ? MiB/s]\u001b[A\n",
      "\n",
      "Dl Completed...:   0%|          | 0/1 [00:00<?, ? url/s]\n",
      "Dl Size...: 0 MiB [00:00, ? MiB/s]\u001b[A\n",
      "\n",
      "Dl Completed...: 100%|██████████| 1/1 [00:00<00:00, 57.54 url/s]\n",
      "Dl Size...: 0 MiB [00:00, ? MiB/s]\u001b[A\n",
      "\n",
      "Dl Completed...: 100%|██████████| 1/1 [00:00<00:00, 38.19 url/s]\n",
      "Dl Size...:   0%|          | 0/4924029 [00:00<?, ? MiB/s]\u001b[A\n",
      "\n",
      "Dl Completed...: 100%|██████████| 1/1 [00:00<00:00, 28.44 url/s]\n",
      "Dl Size...: 100%|██████████| 4924029/4924029 [00:00<00:00, 146610500.04 MiB/s]\u001b[A\n",
      "\n",
      "Extraction completed...: 0 file [00:00, ? file/s]\u001b[A\u001b[A\n",
      "Dl Size...: 100%|██████████| 4924029/4924029 [00:00<00:00, 118420408.66 MiB/s]\n",
      "Dl Completed...: 100%|██████████| 1/1 [00:00<00:00, 21.01 url/s]\n",
      "Generating splits...:   0%|          | 0/1 [00:00<?, ? splits/s]\n",
      "Generating train examples...:   0%|          | 0/1682 [00:00<?, ? examples/s]\u001b[A\n",
      "Generating train examples...:  29%|██▊       | 482/1682 [00:00<00:00, 4813.75 examples/s]\u001b[A\n",
      "Generating train examples...:  57%|█████▋    | 964/1682 [00:00<00:00, 3318.88 examples/s]\u001b[A\n",
      "Generating train examples...:  79%|███████▊  | 1323/1682 [00:00<00:00, 2660.48 examples/s]\u001b[A\n",
      "                                                                                          \u001b[A\n",
      "Shuffling ~/tensorflow_datasets/movielens/100k-movies/0.1.1.incompleteW8V83X/movielens-train.tfrecord*...:   0%|          | 0/1682 [00:00<?, ? examples/s]\u001b[A\n",
      "                                                                                                                                                          \u001b[A\r"
     ]
    },
    {
     "name": "stdout",
     "output_type": "stream",
     "text": [
      "\u001b[1mDataset movielens downloaded and prepared to ~/tensorflow_datasets/movielens/100k-movies/0.1.1. Subsequent calls will reuse this data.\u001b[0m\n"
     ]
    }
   ],
   "source": [
    "# Ratings data.\n",
    "ratings = tfds.load('movielens/100k-ratings', split=\"train\")\n",
    "# Features of all the available movies.\n",
    "movies = tfds.load('movielens/100k-movies', split=\"train\")\n",
    "\n",
    "# Select the basic features.\n",
    "ratings = ratings.map(lambda x: {\n",
    "    \"movie_title\": x[\"movie_title\"],\n",
    "    \"user_id\": x[\"user_id\"]\n",
    "})\n",
    "movies = movies.map(lambda x: x[\"movie_title\"])"
   ]
  },
  {
   "cell_type": "markdown",
   "metadata": {
    "id": "5W0HSfmSNCWm"
   },
   "source": [
    "Build vocabularies to convert user ids and movie titles into integer indices for embedding layers:"
   ]
  },
  {
   "cell_type": "code",
   "execution_count": 6,
   "metadata": {
    "execution": {
     "iopub.execute_input": "2022-07-16T12:11:44.487192Z",
     "iopub.status.busy": "2022-07-16T12:11:44.486676Z",
     "iopub.status.idle": "2022-07-16T12:13:12.127158Z",
     "shell.execute_reply": "2022-07-16T12:13:12.126323Z"
    },
    "id": "9I1VTEjHzpfX"
   },
   "outputs": [],
   "source": [
    "user_ids_vocabulary = tf.keras.layers.StringLookup(mask_token=None)\n",
    "user_ids_vocabulary.adapt(ratings.map(lambda x: x[\"user_id\"]))\n",
    "\n",
    "movie_titles_vocabulary = tf.keras.layers.StringLookup(mask_token=None)\n",
    "movie_titles_vocabulary.adapt(movies)"
   ]
  },
  {
   "cell_type": "markdown",
   "metadata": {
    "id": "Lrch6rVBOB9Q"
   },
   "source": [
    "### Define a model\n",
    "\n",
    "We can define a TFRS model by inheriting from `tfrs.Model` and implementing the `compute_loss` method:"
   ]
  },
  {
   "cell_type": "code",
   "execution_count": 7,
   "metadata": {
    "execution": {
     "iopub.execute_input": "2022-07-16T12:13:12.131777Z",
     "iopub.status.busy": "2022-07-16T12:13:12.131129Z",
     "iopub.status.idle": "2022-07-16T12:13:12.136420Z",
     "shell.execute_reply": "2022-07-16T12:13:12.135786Z"
    },
    "id": "e5dNbDZwOIHR"
   },
   "outputs": [],
   "source": [
    "class MovieLensModel(tfrs.Model):\n",
    "  # We derive from a custom base class to help reduce boilerplate. Under the hood,\n",
    "  # these are still plain Keras Models.\n",
    "\n",
    "  def __init__(\n",
    "      self,\n",
    "      user_model: tf.keras.Model,\n",
    "      movie_model: tf.keras.Model,\n",
    "      task: tfrs.tasks.Retrieval):\n",
    "    super().__init__()\n",
    "\n",
    "    # Set up user and movie representations.\n",
    "    self.user_model = user_model\n",
    "    self.movie_model = movie_model\n",
    "\n",
    "    # Set up a retrieval task.\n",
    "    self.task = task\n",
    "\n",
    "  def compute_loss(self, features: Dict[Text, tf.Tensor], training=False) -> tf.Tensor:\n",
    "    # Define how the loss is computed.\n",
    "\n",
    "    user_embeddings = self.user_model(features[\"user_id\"])\n",
    "    movie_embeddings = self.movie_model(features[\"movie_title\"])\n",
    "\n",
    "    return self.task(user_embeddings, movie_embeddings)"
   ]
  },
  {
   "cell_type": "markdown",
   "metadata": {
    "id": "wdwtgUCEOI8y"
   },
   "source": [
    "Define the two models and the retrieval task."
   ]
  },
  {
   "cell_type": "code",
   "execution_count": 8,
   "metadata": {
    "execution": {
     "iopub.execute_input": "2022-07-16T12:13:12.139546Z",
     "iopub.status.busy": "2022-07-16T12:13:12.139021Z",
     "iopub.status.idle": "2022-07-16T12:13:12.190173Z",
     "shell.execute_reply": "2022-07-16T12:13:12.189576Z"
    },
    "id": "EvtnUN6aUY4U"
   },
   "outputs": [
    {
     "name": "stdout",
     "output_type": "stream",
     "text": [
      "WARNING:tensorflow:vocab_size is deprecated, please use vocabulary_size.\n"
     ]
    },
    {
     "name": "stderr",
     "output_type": "stream",
     "text": [
      "WARNING:tensorflow:vocab_size is deprecated, please use vocabulary_size.\n"
     ]
    },
    {
     "name": "stdout",
     "output_type": "stream",
     "text": [
      "WARNING:tensorflow:vocab_size is deprecated, please use vocabulary_size.\n"
     ]
    },
    {
     "name": "stderr",
     "output_type": "stream",
     "text": [
      "WARNING:tensorflow:vocab_size is deprecated, please use vocabulary_size.\n"
     ]
    }
   ],
   "source": [
    "# Define user and movie models.\n",
    "user_model = tf.keras.Sequential([\n",
    "    user_ids_vocabulary,\n",
    "    tf.keras.layers.Embedding(user_ids_vocabulary.vocab_size(), 64)\n",
    "])\n",
    "movie_model = tf.keras.Sequential([\n",
    "    movie_titles_vocabulary,\n",
    "    tf.keras.layers.Embedding(movie_titles_vocabulary.vocab_size(), 64)\n",
    "])\n",
    "\n",
    "# Define your objectives.\n",
    "task = tfrs.tasks.Retrieval(metrics=tfrs.metrics.FactorizedTopK(\n",
    "    movies.batch(128).map(movie_model)\n",
    "  )\n",
    ")"
   ]
  },
  {
   "cell_type": "markdown",
   "metadata": {
    "id": "BMV0HpzmJGWk"
   },
   "source": [
    "\n",
    "### Fit and evaluate it.\n",
    "\n",
    "Create the model, train it, and generate predictions:\n",
    "\n"
   ]
  },
  {
   "cell_type": "code",
   "execution_count": 9,
   "metadata": {
    "execution": {
     "iopub.execute_input": "2022-07-16T12:13:12.193644Z",
     "iopub.status.busy": "2022-07-16T12:13:12.193102Z",
     "iopub.status.idle": "2022-07-16T12:13:28.030578Z",
     "shell.execute_reply": "2022-07-16T12:13:28.029911Z"
    },
    "id": "H2tQDhqkOKf1"
   },
   "outputs": [
    {
     "name": "stdout",
     "output_type": "stream",
     "text": [
      "Epoch 1/3\n",
      "25/25 [==============================] - 14s 472ms/step - factorized_top_k/top_1_categorical_accuracy: 2.6000e-04 - factorized_top_k/top_5_categorical_accuracy: 0.0023 - factorized_top_k/top_10_categorical_accuracy: 0.0052 - factorized_top_k/top_50_categorical_accuracy: 0.0286 - factorized_top_k/top_100_categorical_accuracy: 0.0572 - loss: 32419.4401 - regularization_loss: 0.0000e+00 - total_loss: 32419.4401\n",
      "Epoch 2/3\n",
      "25/25 [==============================] - 18s 705ms/step - factorized_top_k/top_1_categorical_accuracy: 2.1000e-04 - factorized_top_k/top_5_categorical_accuracy: 0.0041 - factorized_top_k/top_10_categorical_accuracy: 0.0085 - factorized_top_k/top_50_categorical_accuracy: 0.0418 - factorized_top_k/top_100_categorical_accuracy: 0.0790 - loss: 32414.9437 - regularization_loss: 0.0000e+00 - total_loss: 32414.9437\n",
      "Epoch 3/3\n",
      "25/25 [==============================] - 16s 628ms/step - factorized_top_k/top_1_categorical_accuracy: 4.1000e-04 - factorized_top_k/top_5_categorical_accuracy: 0.0059 - factorized_top_k/top_10_categorical_accuracy: 0.0120 - factorized_top_k/top_50_categorical_accuracy: 0.0532 - factorized_top_k/top_100_categorical_accuracy: 0.0966 - loss: 32411.2677 - regularization_loss: 0.0000e+00 - total_loss: 32411.2677\n",
      "Top 3 recommendations for user 42: [b'Star Trek VI: The Undiscovered Country (1991)'\n",
      " b'One Night Stand (1997)' b'Friday (1995)']\n"
     ]
    }
   ],
   "source": [
    "# Create a retrieval model.\n",
    "model = MovieLensModel(user_model, movie_model, task)\n",
    "model.compile(optimizer=Adan())\n",
    "\n",
    "# Train for 3 epochs.\n",
    "model.fit(ratings.batch(4096), epochs=3)\n",
    "\n",
    "# Use brute-force search to set up retrieval using the trained representations.\n",
    "index = tfrs.layers.factorized_top_k.BruteForce(model.user_model)\n",
    "index.index_from_dataset(\n",
    "    movies.batch(100).map(lambda title: (title, model.movie_model(title))))\n",
    "\n",
    "# Get some recommendations.\n",
    "_, titles = index(np.array([\"42\"]))\n",
    "print(f\"Top 3 recommendations for user 42: {titles[0, :3]}\")"
   ]
  },
  {
   "cell_type": "code",
   "execution_count": null,
   "metadata": {
    "id": "neJAJVwbReNd"
   },
   "outputs": [],
   "source": []
  }
 ],
 "metadata": {
  "colab": {
   "collapsed_sections": [],
   "name": "quickstart.ipynb",
   "private_outputs": true,
   "provenance": [],
   "toc_visible": true
  },
  "kernelspec": {
   "display_name": "Python 3 (ipykernel)",
   "language": "python",
   "name": "python3"
  },
  "language_info": {
   "codemirror_mode": {
    "name": "ipython",
    "version": 3
   },
   "file_extension": ".py",
   "mimetype": "text/x-python",
   "name": "python",
   "nbconvert_exporter": "python",
   "pygments_lexer": "ipython3",
   "version": "3.8.10"
  }
 },
 "nbformat": 4,
 "nbformat_minor": 1
}
